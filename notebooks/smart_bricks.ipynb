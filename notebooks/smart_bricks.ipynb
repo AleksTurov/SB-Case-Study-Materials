{
 "cells": [
  {
   "cell_type": "markdown",
   "metadata": {},
   "source": [
    "# Smart "
   ]
  },
  {
   "cell_type": "markdown",
   "metadata": {},
   "source": [
    "## import libraly"
   ]
  },
  {
   "cell_type": "code",
   "execution_count": 3,
   "metadata": {},
   "outputs": [],
   "source": [
    "import gdown\n",
    "import pandas as pd"
   ]
  },
  {
   "cell_type": "markdown",
   "metadata": {},
   "source": [
    "## Dowload dataset from google disk"
   ]
  },
  {
   "cell_type": "code",
   "execution_count": 10,
   "metadata": {},
   "outputs": [
    {
     "name": "stderr",
     "output_type": "stream",
     "text": [
      "Downloading...\n",
      "From (original): https://drive.google.com/uc?id=1oc_RJRsQEiJutVdWjlRdbJ773YpE9h6x\n",
      "From (redirected): https://drive.google.com/uc?id=1oc_RJRsQEiJutVdWjlRdbJ773YpE9h6x&confirm=t&uuid=947b04bc-159f-4ac8-b21c-e9e7c1920b8d\n",
      "To: /workspaces/SB-Case-Study-Materials/snp_dld_2024_rents.csv\n",
      "100%|██████████| 278M/278M [00:05<00:00, 53.0MB/s] \n",
      "Downloading...\n",
      "From: https://drive.google.com/uc?id=1liNykIOnfR5KRR4MXJISCZCKJYFnXQC1\n",
      "To: /workspaces/SB-Case-Study-Materials/snp_dld_2024_transactions.csv\n",
      "100%|██████████| 70.1M/70.1M [00:05<00:00, 11.7MB/s]\n",
      "/tmp/ipykernel_2028/3217814367.py:11: DtypeWarning: Columns (35,36) have mixed types. Specify dtype option on import or set low_memory=False.\n",
      "  snp_dld_2024_rents = pd.read_csv(output_rents)\n"
     ]
    },
    {
     "name": "stdout",
     "output_type": "stream",
     "text": [
      "(681447, 43)\n",
      "(162806, 46)\n"
     ]
    }
   ],
   "source": [
    "# URL to the file on Google Drive\n",
    "url_rents = 'https://drive.google.com/uc?id=1oc_RJRsQEiJutVdWjlRdbJ773YpE9h6x'\n",
    "output_rents = 'snp_dld_2024_rents.csv'\n",
    "url_trans = 'https://drive.google.com/uc?id=1liNykIOnfR5KRR4MXJISCZCKJYFnXQC1'\n",
    "output_trans = 'snp_dld_2024_transactions.csv'\n",
    "# Download the file\n",
    "gdown.download(url_rents, output_rents, quiet=False)\n",
    "gdown.download(url_trans, output_trans, quiet=False)\n",
    "\n",
    "# Load data into DataFrame\n",
    "snp_dld_2024_rents = pd.read_csv(output_rents)\n",
    "snp_dld_2024_transactions = pd.read_csv(output_trans)\n",
    "print(snp_dld_2024_rents.shape)\n",
    "print(snp_dld_2024_transactions.shape)"
   ]
  }
 ],
 "metadata": {
  "kernelspec": {
   "display_name": "Python 3 (ipykernel)",
   "language": "python",
   "name": "python3"
  },
  "language_info": {
   "codemirror_mode": {
    "name": "ipython",
    "version": 3
   },
   "file_extension": ".py",
   "mimetype": "text/x-python",
   "name": "python",
   "nbconvert_exporter": "python",
   "pygments_lexer": "ipython3",
   "version": "3.12.1"
  }
 },
 "nbformat": 4,
 "nbformat_minor": 2
}
